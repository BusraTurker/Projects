﻿{
  "metadata": {
    "name": "de-busraturker-proje-join",
    "kernelspec": {
      "language": "scala",
      "name": "spark2-scala"
    },
    "language_info": {
      "codemirror_mode": "text/x-scala",
      "file_extension": ".scala",
      "mimetype": "text/x-scala",
      "name": "scala",
      "pygments_lexer": "scala"
    }
  },
  "nbformat": 4,
  "nbformat_minor": 2,
  "cells": [
    {
      "cell_type": "code",
      "execution_count": 0,
      "metadata": {
        "autoscroll": "auto"
      },
      "outputs": [],
      "source": "%spark\nval RDD2 \u003d sc.textFile(\"/user/zeppelin/busra/*6.log\")"
    },
    {
      "cell_type": "code",
      "execution_count": 1,
      "metadata": {
        "autoscroll": "auto"
      },
      "outputs": [],
      "source": "%spark\nRDD2.count"
    },
    {
      "cell_type": "code",
      "execution_count": 2,
      "metadata": {
        "autoscroll": "auto"
      },
      "outputs": [],
      "source": "%spark\nval groupedRDD\u003dRDD2.map(line\u003d\u003eline.split(\" \")).map(f\u003d\u003e(f(2),f(0))).groupByKey"
    },
    {
      "cell_type": "code",
      "execution_count": 3,
      "metadata": {
        "autoscroll": "auto"
      },
      "outputs": [],
      "source": "%spark\nfor (i \u003c- groupedRDD.take(5))\n    println(i)"
    },
    {
      "cell_type": "code",
      "execution_count": 4,
      "metadata": {
        "autoscroll": "auto"
      },
      "outputs": [],
      "source": "%spark\nval counts \u003d RDD2.map(line \u003d\u003e (line.split(\u0027 \u0027)(2),1)).reduceByKey((x,y) \u003d\u003e x+y)"
    },
    {
      "cell_type": "code",
      "execution_count": 5,
      "metadata": {
        "autoscroll": "auto"
      },
      "outputs": [],
      "source": "%spark\nfor (i \u003c- counts.take(5))\n    println(i)"
    },
    {
      "cell_type": "code",
      "execution_count": 6,
      "metadata": {
        "autoscroll": "auto"
      },
      "outputs": [],
      "source": "%sh\ngit clone https://github.com/BusraTurker/Join.git"
    },
    {
      "cell_type": "code",
      "execution_count": 7,
      "metadata": {
        "autoscroll": "auto"
      },
      "outputs": [],
      "source": "%sh\nls"
    },
    {
      "cell_type": "code",
      "execution_count": 8,
      "metadata": {
        "autoscroll": "auto"
      },
      "outputs": [],
      "source": "%sh\nhdfs dfs -put Join /user/zeppelin/busra/\n"
    },
    {
      "cell_type": "code",
      "execution_count": 9,
      "metadata": {
        "autoscroll": "auto"
      },
      "outputs": [],
      "source": "%sh\nhdfs dfs -ls /user/zeppelin/busra/Join/join/kaynak/"
    },
    {
      "cell_type": "code",
      "execution_count": 10,
      "metadata": {
        "autoscroll": "auto"
      },
      "outputs": [],
      "source": "%spark\nval RDDaccounts \u003d sc.textFile(\"/user/zeppelin/busra/Join/join/kaynak/accounts.csv\").map(_.split(\",\")).map(fields\u003d\u003e(fields(0),(fields(1),fields(2),fields(3), fields(4), fields(5),fields(6),fields(7),fields(8),fields(9),fields(10), fields(11))))"
    },
    {
      "cell_type": "code",
      "execution_count": 11,
      "metadata": {
        "autoscroll": "auto"
      },
      "outputs": [],
      "source": "%spark\nfor (i \u003c- RDDaccounts.take(5))\n    println(i)"
    },
    {
      "cell_type": "code",
      "execution_count": 12,
      "metadata": {
        "autoscroll": "auto"
      },
      "outputs": [],
      "source": "%spark\nRDDaccounts.count"
    },
    {
      "cell_type": "code",
      "execution_count": 13,
      "metadata": {
        "autoscroll": "auto"
      },
      "outputs": [],
      "source": "%spark\nfor (i \u003c- lineFieldsRDD.take(5)) {\n    println(i(0) + \" - \" + i(2) + \" - \" + i(5) +\" \"+ i(6) +\" \"+ i(7)  +\" \"+  i(8)  +\" \"+  i(9)  +\" \"+  i(10)  +\" \"+  i(11) +\" \"+  i(12) +\" \"+  i(13) +\" \"+  i(14) )\n    println(\"-------\")\n}"
    },
    {
      "cell_type": "code",
      "execution_count": 14,
      "metadata": {
        "autoscroll": "auto"
      },
      "outputs": [],
      "source": "%spark\nval userreqs\u003dlineFieldsRDD.map(fields \u003d\u003e ((fields(2)), ((fields(5)) + (fields(6)) + (fields(7)))))"
    },
    {
      "cell_type": "code",
      "execution_count": 15,
      "metadata": {
        "autoscroll": "auto"
      },
      "outputs": [],
      "source": "%spark\nfor (i \u003c- userreqs.take(5))\n    println(i)"
    },
    {
      "cell_type": "code",
      "execution_count": 16,
      "metadata": {
        "autoscroll": "auto"
      },
      "outputs": [],
      "source": "%spark\nval mergeRDD\u003dRDDaccounts.join(userreqs).map(word \u003d\u003e (word,1)).reduceByKey((v1,v2) \u003d\u003e v1+v2)"
    },
    {
      "cell_type": "code",
      "execution_count": 17,
      "metadata": {
        "autoscroll": "auto"
      },
      "outputs": [],
      "source": "%spark\nfor (i \u003c- mergeRDD.take(5))\n    println(i)"
    },
    {
      "cell_type": "code",
      "execution_count": 18,
      "metadata": {
        "autoscroll": "auto"
      },
      "outputs": [],
      "source": "%spark\nval RDDnames \u003d sc.textFile(\"/user/zeppelin/busra/Join/join/kaynak/accounts.csv\").map(_.split(\",\")).map(fields\u003d\u003e(fields(0),(fields(3),fields(4))))"
    },
    {
      "cell_type": "code",
      "execution_count": 19,
      "metadata": {
        "autoscroll": "auto"
      },
      "outputs": [],
      "source": "%spark\nfor (i \u003c- RDDnames.take(5))\n    println(i)"
    },
    {
      "cell_type": "code",
      "execution_count": 20,
      "metadata": {
        "autoscroll": "auto"
      },
      "outputs": [],
      "source": "%spark\nval displayRDD\u003dRDDnames.join(counts)"
    },
    {
      "cell_type": "code",
      "execution_count": 21,
      "metadata": {
        "autoscroll": "auto"
      },
      "outputs": [],
      "source": "%spark\nfor (i \u003c- displayRDD.take(30))\n    println(i)"
    },
    {
      "cell_type": "code",
      "execution_count": 22,
      "metadata": {
        "autoscroll": "auto"
      },
      "outputs": [],
      "source": "%spark\nval keyzipcode\u003daccountRDD.map(line \u003d\u003e (line.split(\",\")(8),1)).reduceByKey((x,y) \u003d\u003e x+y).map{case(x,y)\u003d\u003e (y,x)}.sortByKey(ascending\u003dfalse).map{case(x,y)\u003d\u003e (y,x)}"
    },
    {
      "cell_type": "code",
      "execution_count": 23,
      "metadata": {
        "autoscroll": "auto"
      },
      "outputs": [],
      "source": "%spark\nfor (i \u003c- keyzipcode.take(5))\n    println(i)"
    },
    {
      "cell_type": "code",
      "execution_count": 24,
      "metadata": {
        "autoscroll": "auto"
      },
      "outputs": [],
      "source": "%spark\nval nameszipRDD\u003daccountRDD.map(_.split(\",\")).map(fields\u003d\u003e(fields(8),(fields(4),fields(3))))"
    },
    {
      "cell_type": "code",
      "execution_count": 25,
      "metadata": {
        "autoscroll": "auto"
      },
      "outputs": [],
      "source": "%spark\nfor (i \u003c- nameszipRDD.take(5))\n    println(i)"
    },
    {
      "cell_type": "code",
      "execution_count": 26,
      "metadata": {
        "autoscroll": "auto"
      },
      "outputs": [],
      "source": "%spark\nval newkeyzipcodeRDD\u003dkeyzipcode.join(nameszipRDD).groupByKey().sortByKey()"
    },
    {
      "cell_type": "code",
      "execution_count": 27,
      "metadata": {
        "autoscroll": "auto"
      },
      "outputs": [],
      "source": "%spark\nfor (i \u003c- newkeyzipcodeRDD.take(5))\n    println(i)"
    },
    {
      "cell_type": "code",
      "execution_count": 28,
      "metadata": {
        "autoscroll": "auto"
      },
      "outputs": [],
      "source": "%spark\n"
    }
  ]
}