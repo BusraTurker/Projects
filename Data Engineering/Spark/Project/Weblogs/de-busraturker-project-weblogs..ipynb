﻿{
  "metadata": {
    "name": "de-busraturker-proje-weblogs",
    "kernelspec": {
      "language": "scala",
      "name": "spark2-scala"
    },
    "language_info": {
      "codemirror_mode": "text/x-scala",
      "file_extension": ".scala",
      "mimetype": "text/x-scala",
      "name": "scala",
      "pygments_lexer": "scala"
    }
  },
  "nbformat": 4,
  "nbformat_minor": 2,
  "cells": [
    {
      "cell_type": "code",
      "execution_count": 0,
      "metadata": {
        "autoscroll": "auto"
      },
      "outputs": [],
      "source": "%sh\ngit clone https://github.com/BusraTurker/weblog.git"
    },
    {
      "cell_type": "code",
      "execution_count": 1,
      "metadata": {
        "autoscroll": "auto"
      },
      "outputs": [],
      "source": "%sh\nhdfs dfs -ls /user/zeppelin/busra/"
    },
    {
      "cell_type": "code",
      "execution_count": 2,
      "metadata": {
        "autoscroll": "auto"
      },
      "outputs": [],
      "source": "%spark\nval weblogRDD \u003d sc.textFile(\"/user/zeppelin/busra/*.log\")"
    },
    {
      "cell_type": "code",
      "execution_count": 3,
      "metadata": {
        "autoscroll": "auto"
      },
      "outputs": [],
      "source": "%spark\nval jpglogsRDD\u003dweblogRDD.map(_.contains(\"jpg\"))"
    },
    {
      "cell_type": "code",
      "execution_count": 4,
      "metadata": {
        "autoscroll": "auto"
      },
      "outputs": [],
      "source": "%spark\nfor (i \u003c- jpglogsRDD.take(15))\n    println(i)"
    },
    {
      "cell_type": "code",
      "execution_count": 5,
      "metadata": {
        "autoscroll": "auto"
      },
      "outputs": [],
      "source": "%spark\nval lengthRDD\u003dweblogRDD.map(_.length)"
    },
    {
      "cell_type": "code",
      "execution_count": 6,
      "metadata": {
        "autoscroll": "auto"
      },
      "outputs": [],
      "source": "%spark\nfor (i \u003c- lengthRDD.take(5))\n  println(\"String Length is : \" + i )"
    },
    {
      "cell_type": "code",
      "execution_count": 7,
      "metadata": {
        "autoscroll": "auto"
      },
      "outputs": [],
      "source": "%spark\nval lineFieldsRDD\u003dweblogRDD.map(_.split(\u0027 \u0027))"
    },
    {
      "cell_type": "code",
      "execution_count": 8,
      "metadata": {
        "autoscroll": "auto"
      },
      "outputs": [],
      "source": "%spark\nfor (i \u003c- lineFieldsRDD.take(5)) {\n    println(i(0) + \" - \" + i(2) + \" - \" + i(5) +\" \"+ i(6) +\" \"+ i(7)  +\" \"+  i(8)  +\" \"+  i(9)  +\" \"+  i(10)  +\" \"+  i(11) +\" \"+  i(12) +\" \"+  i(13) +\" \"+  i(14) )\n    println(\"-------\")\n}"
    },
    {
      "cell_type": "code",
      "execution_count": 9,
      "metadata": {
        "autoscroll": "auto"
      },
      "outputs": [],
      "source": "%spark\nval ipRDD\u003dweblogRDD.map(_.split(\u0027 \u0027)).map(field\u003d\u003efield(0)).distinct"
    },
    {
      "cell_type": "code",
      "execution_count": 10,
      "metadata": {
        "autoscroll": "auto"
      },
      "outputs": [],
      "source": "%spark\nfor (ip \u003c- ipRDD.take(15))\n    println(ip)"
    }
  ]
}