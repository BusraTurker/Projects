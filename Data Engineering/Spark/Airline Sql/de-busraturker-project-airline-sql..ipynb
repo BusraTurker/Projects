﻿{
  "metadata": {
    "name": "de-busraturker-proje-airlinesql",
    "kernelspec": {
      "language": "scala",
      "name": "spark2-scala"
    },
    "language_info": {
      "codemirror_mode": "text/x-scala",
      "file_extension": ".scala",
      "mimetype": "text/x-scala",
      "name": "scala",
      "pygments_lexer": "scala"
    }
  },
  "nbformat": 4,
  "nbformat_minor": 2,
  "cells": [
    {
      "cell_type": "code",
      "execution_count": 0,
      "metadata": {
        "autoscroll": "auto"
      },
      "outputs": [],
      "source": "%sh\n//wget -O busra_airports.dat https://raw.githubusercontent.com/jpatokal/openflights/master/data/airports.dat\n//wget -O busra_airlines.dat https://raw.githubusercontent.com/jpatokal/openflights/master/data/airlines.dat\n//wget -O busra_routes.dat https://raw.githubusercontent.com/jpatokal/openflights/master/data/routes.dat\n//hdfs dfs -put busra_*.dat busra/"
    },
    {
      "cell_type": "code",
      "execution_count": 1,
      "metadata": {
        "autoscroll": "auto"
      },
      "outputs": [],
      "source": "%sh\nhdfs dfs -ls /user/zeppelin/busra/"
    },
    {
      "cell_type": "code",
      "execution_count": 2,
      "metadata": {
        "autoscroll": "auto"
      },
      "outputs": [],
      "source": "%spark\nimport org.apache.spark.sql.types._\nval airlinesColumnList \u003d List (StructField(\"Airline_ID\", IntegerType), StructField(\"Name\", StringType), StructField(\"Alias\", StringType), StructField(\"IATA\", StringType), StructField(\"ICAO\", StringType), StructField(\"Callsign\", StringType), StructField(\"Country\", StringType), StructField(\"Active\", StringType))\n\nval airportColumnList \u003d List (StructField(\"Airport_ID\", IntegerType), StructField(\"Name\", StringType), StructField(\"City\", StringType), StructField(\"Country\", StringType), StructField(\"IATA\", StringType), StructField(\"ICAO\", StringType), StructField(\"Latitude\", DoubleType), StructField(\"Longitude\", DoubleType), StructField(\"Altitude\", IntegerType), StructField(\"Timezone\", IntegerType), StructField(\"DST\", StringType), StructField(\"Tz_database_time_zone\", StringType), StructField(\"Type\", StringType), StructField(\"Source\", StringType))\n\nval routesColumnList \u003d List (StructField(\"Airline\", StringType), StructField(\"Airline_ID\", IntegerType),StructField(\"Source_airport\", StringType), StructField(\"Source_airport_ID\", IntegerType),StructField(\"Destination_airport\", StringType), StructField(\"Destination_airport_ID\", IntegerType), StructField(\"Codeshare\", StringType), StructField(\"Stops\", IntegerType), StructField(\"Equipment\", StringType))\n\nval airlines_schema \u003d StructType(airlinesColumnList)\n\nval airports_schema \u003d StructType(airportColumnList)\n\nval routes_schema \u003d StructType(routesColumnList)"
    },
    {
      "cell_type": "code",
      "execution_count": 3,
      "metadata": {
        "autoscroll": "auto"
      },
      "outputs": [],
      "source": "%spark\nval airlinesDF \u003d spark.read.format(\"csv\").option(\"header\", \"false\").schema(airlines_schema).load(\"busra/busra_airlines.dat\").createOrReplaceTempView(\"busra_airlines\")\n\nval airportsDF \u003d spark.read.format(\"csv\").option(\"header\", \"false\").schema(airports_schema).load(\"busra/busra_airports.dat\").createOrReplaceTempView(\"busra_airports\")\n\nval routesDF \u003d spark.read.format(\"csv\").option(\"header\", \"false\").schema(routes_schema).load(\"busra/busra_routes.dat\").createOrReplaceTempView(\"busra_routes\")"
    },
    {
      "cell_type": "code",
      "execution_count": 4,
      "metadata": {
        "autoscroll": "auto"
      },
      "outputs": [],
      "source": "%spark.sql\nshow tables;\n--CREATE TABLE busra_airlines_kalici AS SELECT * FROM busra_airlines;\n--CREATE TABLE busra_airports_kalici AS SELECT * FROM busra_airports;\n--CREATE TABLE busra_routes_kalici AS SELECT * FROM busra_routes;"
    },
    {
      "cell_type": "code",
      "execution_count": 5,
      "metadata": {
        "autoscroll": "auto"
      },
      "outputs": [],
      "source": "%spark.sql\nselect * from busra_airlines LIMIT 10;\n\nselect * from busra_airports LIMIT 10;\n\nselect * from busra_routes LIMIT 10;"
    },
    {
      "cell_type": "code",
      "execution_count": 6,
      "metadata": {
        "autoscroll": "auto"
      },
      "outputs": [],
      "source": "%spark.sql\n--En çok destinasyona uçan ilk 20 uçak\nselect y.Name as Name_of_Airline, count (*) as Number_of_Destinations \n    from (select distinct Airline_ID, Destination_airport from busra_routes_kalici) x, busra_airlines_kalici y\n        where x.Airline_ID\u003dy.Airline_ID\n            group by y.Name\n                order by 2 desc\n                    limit 20;\n        "
    },
    {
      "cell_type": "code",
      "execution_count": 7,
      "metadata": {
        "autoscroll": "auto"
      },
      "outputs": [],
      "source": "%spark.sql\n--En çok ülkeye uçan ilk 20 uçak\nselect y.Name as Name_of_Airline, count (*) as Number_of_Countries \n    from (select distinct x.Airline_ID, z.Country from busra_routes_kalici x, busra_airports_kalici z where x.Destination_airport \u003d z.IATA) t, busra_airlines_kalici y\n        where t.Airline_ID\u003dy.Airline_ID\n            group by y.Name\n                order by 2 desc\n                    limit 20;"
    },
    {
      "cell_type": "code",
      "execution_count": 8,
      "metadata": {
        "autoscroll": "auto"
      },
      "outputs": [],
      "source": "%spark.sql\n"
    }
  ]
}