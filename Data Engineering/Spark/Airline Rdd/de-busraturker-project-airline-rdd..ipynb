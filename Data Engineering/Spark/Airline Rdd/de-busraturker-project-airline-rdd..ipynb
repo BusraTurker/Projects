﻿{
  "metadata": {
    "name": "de-busraturker-proje-airlinerdd",
    "kernelspec": {
      "language": "scala",
      "name": "spark2-scala"
    },
    "language_info": {
      "codemirror_mode": "text/x-scala",
      "file_extension": ".scala",
      "mimetype": "text/x-scala",
      "name": "scala",
      "pygments_lexer": "scala"
    }
  },
  "nbformat": 4,
  "nbformat_minor": 2,
  "cells": [
    {
      "cell_type": "code",
      "execution_count": 0,
      "metadata": {
        "autoscroll": "auto"
      },
      "outputs": [],
      "source": "(%sh\nhdfs dfs -ls /user/zeppelin/busra/"
    },
    {
      "cell_type": "code",
      "execution_count": 1,
      "metadata": {
        "autoscroll": "auto"
      },
      "outputs": [],
      "source": "%spark\nval airlinesRDD \u003d sc.textFile(\"/user/zeppelin/busra/busra_airlines.dat\").map(_.split(\",\")).map(fields \u003d\u003e (fields(0), fields(1)))"
    },
    {
      "cell_type": "code",
      "execution_count": 2,
      "metadata": {
        "autoscroll": "auto"
      },
      "outputs": [],
      "source": "%spark\nfor (i \u003c- airlinesRDD.take(5))\n    println(i)"
    },
    {
      "cell_type": "code",
      "execution_count": 3,
      "metadata": {
        "autoscroll": "auto"
      },
      "outputs": [],
      "source": "%spark\nval routesRDD1 \u003d sc.textFile(\"/user/zeppelin/busra/busra_routes.dat\").map(_.split(\",\")).map(f\u003d\u003e(f(1),f(4))).distinct.groupByKey.map{case(x,y)\u003d\u003e (x,y.size)}.map{case(x,y)\u003d\u003e (y,x)}.sortByKey(ascending\u003dfalse).map{case(x,y)\u003d\u003e (y,x)}"
    },
    {
      "cell_type": "code",
      "execution_count": 4,
      "metadata": {
        "autoscroll": "auto"
      },
      "outputs": [],
      "source": "%spark\nfor (i \u003c- routesRDD1.take(5))\n    println(i)"
    },
    {
      "cell_type": "code",
      "execution_count": 5,
      "metadata": {
        "autoscroll": "auto"
      },
      "outputs": [],
      "source": "%spark\nval destinationRDD\u003droutesRDD1.join(airlinesRDD).sortBy(_._2, ascending\u003dfalse)"
    },
    {
      "cell_type": "code",
      "execution_count": 6,
      "metadata": {
        "autoscroll": "auto"
      },
      "outputs": [],
      "source": "%spark\n//En çok destinasyona uçan ilk 20 hava yolu\nfor (i \u003c- destinationRDD.take(20))\n    println(i)"
    },
    {
      "cell_type": "code",
      "execution_count": 7,
      "metadata": {
        "autoscroll": "auto"
      },
      "outputs": [],
      "source": "%spark\nval airportsRDD \u003d sc.textFile(\"/user/zeppelin/busra/busra_airports.dat\").map(_.split(\",\")).map(f\u003d\u003e(f(0),f(3))).groupByKey"
    },
    {
      "cell_type": "code",
      "execution_count": 8,
      "metadata": {
        "autoscroll": "auto"
      },
      "outputs": [],
      "source": "%spark\nfor (i \u003c- airportsRDD.take(20))\n    println(i)"
    },
    {
      "cell_type": "code",
      "execution_count": 9,
      "metadata": {
        "autoscroll": "auto"
      },
      "outputs": [],
      "source": "%spark\nval routesRDD2 \u003d sc.textFile(\"/user/zeppelin/busra/busra_routes.dat\").map(_.split(\",\")).map(f\u003d\u003e(f(5),f(1))).distinct"
    },
    {
      "cell_type": "code",
      "execution_count": 10,
      "metadata": {
        "autoscroll": "auto"
      },
      "outputs": [],
      "source": "%spark\nfor (i \u003c- routesRDD2.take(5))\n    println(i)"
    },
    {
      "cell_type": "code",
      "execution_count": 11,
      "metadata": {
        "autoscroll": "auto"
      },
      "outputs": [],
      "source": "%spark\nval mergeRDD2\u003droutesRDD2.join(airportsRDD).map { case (i, (d1, (d2))) \u003d\u003e (d1, d2)}.groupByKey.flatMap{case (k,v) \u003d\u003e v.map(vx \u003d\u003e (k,vx))}.distinct.groupByKey"
    },
    {
      "cell_type": "code",
      "execution_count": 12,
      "metadata": {
        "autoscroll": "auto"
      },
      "outputs": [],
      "source": "%spark\nval mergeRDD\u003dmergeRDD2.map{case (x,y) \u003d\u003e (x,y.size)}.sortBy(_._2, ascending\u003dfalse)"
    },
    {
      "cell_type": "code",
      "execution_count": 13,
      "metadata": {
        "autoscroll": "auto"
      },
      "outputs": [],
      "source": "%spark\nfor (i \u003c- mergeRDD.take(25))\n    println(i)"
    },
    {
      "cell_type": "code",
      "execution_count": 14,
      "metadata": {
        "autoscroll": "auto"
      },
      "outputs": [],
      "source": "%spark\nval countryRDD\u003dmergeRDD.join(airlinesRDD).sortBy(_._2, ascending\u003dfalse)"
    },
    {
      "cell_type": "code",
      "execution_count": 15,
      "metadata": {
        "autoscroll": "auto"
      },
      "outputs": [],
      "source": "%spark\n//En çok destinasyona uçan ilk 20 hava yolu\nfor (i \u003c- countryRDD.take(25))\n    println(i)"
    },
    {
      "cell_type": "code",
      "execution_count": 16,
      "metadata": {
        "autoscroll": "auto"
      },
      "outputs": [],
      "source": "%spark\n"
    }
  ]
}